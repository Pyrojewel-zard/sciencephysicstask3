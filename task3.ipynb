{
 "cells": [
  {
   "cell_type": "code",
   "execution_count": 5,
   "metadata": {},
   "outputs": [],
   "source": [
    "import pandas as pd\n",
    "from sklearn import linear_model\n",
    "import seaborn\n",
    "import matplotlib.pyplot as plt\n",
    "from sklearn.model_selection import cross_val_score as cvs\n",
    "import numpy\n",
    "import os\n",
    "path=r\"D:\\vscode\\task3\"\n",
    "os.chdir(path)\n",
    "train_data = pd.read_csv('Homework-3-1\\Homework-3-1-train_data.csv')\n"
   ]
  },
  {
   "cell_type": "code",
   "execution_count": 6,
   "metadata": {},
   "outputs": [
    {
     "data": {
      "image/png": "[encoded data removed]",
      "text/plain": [
       "<Figure size 432x288 with 1 Axes>"
      ]
     },
     "metadata": {
      "needs_background": "light"
     },
     "output_type": "display_data"
    }
   ],
   "source": [
    "\n",
    "#散点图观察petal_length 和 petal_width关系\n",
    "seaborn.regplot(x='Feature1',y='Yvalue',data=train_data)\n",
    "plt.show()\n"
   ]
  },
  {
   "cell_type": "code",
   "execution_count": 9,
   "metadata": {},
   "outputs": [
    {
     "name": "stdout",
     "output_type": "stream",
     "text": [
      "12.532567698234292 [ 2.19773483e-02 -1.06016314e+00 -1.59215905e-01  8.65876101e-03\n",
      " -1.67962549e+00  5.09173337e-03 -3.46119504e-03 -8.68462085e+00\n",
      " -3.28023214e-01  8.80680471e-01  2.76931844e-01]\n",
      "petal_width's value :  [-58.97672004]\n",
      "0.5118488380516217\n"
     ]
    },
    {
     "name": "stderr",
     "output_type": "stream",
     "text": [
      "d:\\Users\\28956\\anaconda3\\lib\\site-packages\\sklearn\\base.py:450: UserWarning: X does not have valid feature names, but LinearRegression was fitted with feature names\n",
      "  warnings.warn(\n"
     ]
    }
   ],
   "source": [
    "#训练线性回归模型\n",
    "lm = linear_model.LinearRegression()\n",
    "#更改为3个特征\n",
    "features = ['Feature1','Feature2','Feature3','Feature4','Feature5','Feature6','Feature7','Feature8','Feature9','Feature10','Feature11']\n",
    "X = train_data[features]\n",
    "y = train_data['Yvalue']\n",
    "model = lm.fit(X,y)\n",
    "print(model.intercept_,model.coef_)\n",
    "predict = model.predict([[1,2,3,4,5,6,7,8,9,10,11]])\n",
    "print(\"petal_width's value : \",predict)\n",
    "scores = -cvs(lm,X,y,cv=5,scoring='neg_mean_absolute_error')\n",
    "ave_score = numpy.mean(scores)\n",
    "print(ave_score)"
   ]
  }
 ],
 "metadata": {
  "kernelspec": {
   "display_name": "Python 3.9.12 ('base')",
   "language": "python",
   "name": "python3"
  },
  "language_info": {
   "codemirror_mode": {
    "name": "ipython",
    "version": 3
   },
   "file_extension": ".py",
   "mimetype": "text/x-python",
   "name": "python",
   "nbconvert_exporter": "python",
   "pygments_lexer": "ipython3",
   "version": "3.9.12"
  },
  "orig_nbformat": 4,
  "vscode": {
   "interpreter": {
    "hash": "9cb5a17d52ec5399891d6724af270fca981f14bb2a96c81705d5ee2c7d1c7795"
   }
  }
 },
 "nbformat": 4,
 "nbformat_minor": 2
}
